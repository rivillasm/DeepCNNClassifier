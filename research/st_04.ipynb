{
 "cells": [
  {
   "cell_type": "code",
   "execution_count": 1,
   "metadata": {},
   "outputs": [
    {
     "data": {
      "text/plain": [
       "'C:\\\\Users\\\\rivil\\\\PycharmProjects\\\\projects\\\\DeepCNNClassifier'"
      ]
     },
     "execution_count": 1,
     "metadata": {},
     "output_type": "execute_result"
    }
   ],
   "source": [
    "import os\n",
    "os.chdir(\"C:\\\\Users\\\\rivil\\\\PycharmProjects\\\\projects\\\\DeepCNNClassifier\\\\\")\n",
    "os.getcwd()"
   ]
  },
  {
   "cell_type": "code",
   "execution_count": 4,
   "metadata": {},
   "outputs": [],
   "source": [
    "from dataclasses import dataclass\n",
    "from pathlib import Path\n",
    "#from pickletools import float8\n",
    "\n",
    "@dataclass(frozen=True)\n",
    "class TrainingConfig:\n",
    "    root_dir: Path\n",
    "    trained_model_path: Path\n",
    "    updated_base_model_path: Path\n",
    "    training_data: Path\n",
    "    params_epochs: int\n",
    "    params_batch_size: int\n",
    "    params_is_augmentation: bool\n",
    "    params_image_size: list\n",
    "    "
   ]
  },
  {
   "cell_type": "code",
   "execution_count": 5,
   "metadata": {},
   "outputs": [],
   "source": [
    "from deepClassifier.constants import *\n",
    "from deepClassifier.utils import read_yaml, create_directories"
   ]
  },
  {
   "cell_type": "code",
   "execution_count": 7,
   "metadata": {},
   "outputs": [],
   "source": [
    "class ConfigurationManager:\n",
    "    def __init__(self,\n",
    "                config_filepath = CONFIG_FILE_PATH,\n",
    "                params_filepath = PARAMS_FILE_PATH):\n",
    "                self.config = read_yaml(config_filepath)\n",
    "                self.params = read_yaml(params_filepath)\n",
    "                create_directories([self.config.artifacts_root])\n",
    "\n",
    "    def get_Training_config(self) -> TrainingConfig:\n",
    "        training=self.config.Training            # all the info is inside this variable\n",
    "                                                 # as per name in config.yaml\n",
    "        prepare_base_model=self.config.prepare_base_model\n",
    "        params=self.params\n",
    "        training_data=os.path.join(self.config.data_ingestion.unzip_dir, \"PetImages\")\n",
    "                \n",
    "        create_directories([Path(training.root_dir)]) # creates irectory\n",
    "       \n",
    "\n",
    "        Training_config = TrainingConfig(\n",
    "            root_dir=Path(training.root_dir),\n",
    "            trained_model_path=Path(training.trained_model_path),\n",
    "            updated_base_model_path= Path(prepare_base_model.updated_base_model_path),\n",
    "            training_data=Path(training_data),\n",
    "            params_epochs=params.EPOCHS,\n",
    "            params_batch_size=params.BATCH_SIZE,\n",
    "            params_is_augmentation=params.AUGMENTATION,\n",
    "            params_image_size=params.IMAGE_SIZE)\n",
    "\n",
    "        return Training_config"
   ]
  },
  {
   "cell_type": "code",
   "execution_count": null,
   "metadata": {},
   "outputs": [],
   "source": [
    "import os\n",
    "import urllib.request as request\n",
    "from zipfile import ZipFile\n",
    "import tensorflow as tf\n",
    "import time\n",
    "\n",
    "class Training:\n",
    "    def __init__(self, config:TrainingConfig):\n",
    "        self.config = config\n",
    "\n",
    "    def get_base_model(self):\n",
    "        self.model=tf.keras.models.load_model(self.config.updated_base_model_path)\n",
    "\n",
    "    def train_valid_generator(self):\n",
    "        datagenerator_kwargs=dict(  rescale=1./255\n",
    "                                    validation_split=0.20)\n",
    "\n",
    "        dataflow_kwargs=dict(   target_size=self.config.params_image[:-1],\n",
    "                                batch_size=self.config.params_batch_size,\n",
    "                                interpolation=\"bilinear\")\n",
    "    \n",
    "        valid_datagenerator=tf.keras.preprocessing.image.ImageDataGenerator(\n",
    "            **datagenerator_kwargs)\n",
    "\n",
    "        self.valid_generator=valid_datagenerator.flow_from_directory(\n",
    "                directory=self.config.training_data\n",
    "                subset=\"validation\",\n",
    "                shuffle=False,\n",
    "                **dataflow_kwargs)\n",
    "\n",
    "        if self.config_params_is_augmentation:\n",
    "            train_datagenerator=tf.keras.preprocessing.image.ImageGenerator(\n",
    "                rotation_angle=40,\n",
    "                horiozntal_flipe=True,\n",
    "                width_shift_range=0.2,\n",
    "                hight_shift_range=0.2,\n",
    "                shear_range=0.2,\n",
    "                zoom_range=0.2,\n",
    "                **dataflow_kwargs)\n",
    "        else:\n",
    "            train_datagenerator=valid_datagenerator\n",
    "\n",
    "        self.train_generator=train_datagenerator.flow_from_directory(\n",
    "                directory=self.config.training_Data,\n",
    "                subset=\"training\",\n",
    "                shuffle=True,\n",
    "                **dataflow_kwargs)\n",
    "\n",
    "    @staticmethod\n",
    "    def save_model(path: Path,model: ft.keras.Model):\n",
    "\n",
    "    def train(self, callback_list):\n",
    "        self.steps_per_epoch=self.train_generator.samples // self.train_generator.batch_size\n",
    "        self.validation_steps=self.valid_generator.samples//self.valid_generator.batch_size\n",
    "\n",
    "        self.model.fit( self.train_generator,\n",
    "                        epochs=self.config.parms_epochs,\n",
    "                        steps_per_epochs=self.steps_per_epoch,\n",
    "                        validation_steps=self.validation_steps,\n",
    "                        validation_data=self.valid_generator,\n",
    "                        callbacks=callback_list)\n",
    "\n",
    "        self.save_model(path=self.config.trained_model_path,\n",
    "                        model=self.model\n",
    "\n",
    "        )\n",
    "\n",
    "        \n",
    "    "
   ]
  },
  {
   "cell_type": "code",
   "execution_count": null,
   "metadata": {},
   "outputs": [],
   "source": [
    "try:\n",
    "    config = ConfigurationManager()\n",
    "    prepare_Callbacks_config = config.get_prepare_Callbacks_config()  \n",
    "    prepare_Callbacks= PrepareCallbacks(config=prepare_Callbacks_config) \n",
    "    Callbacks_list=prepare_Callbacks.get_tb_ckpt_callbacks() \n",
    "\n",
    "    training_config = config.get_Training_config()  \n",
    "    training=Training(config=training_config) \n",
    "    training_train_valid_generator()   # generates the validation dataset\n",
    "    training.train(Callbacks_list=callback_list)\n",
    "\n",
    "    \n",
    "except Exception as e:\n",
    "    raise e\n"
   ]
  }
 ],
 "metadata": {
  "kernelspec": {
   "display_name": "Python 3.8.13 (conda)",
   "language": "python",
   "name": "python3"
  },
  "language_info": {
   "codemirror_mode": {
    "name": "ipython",
    "version": 3
   },
   "file_extension": ".py",
   "mimetype": "text/x-python",
   "name": "python",
   "nbconvert_exporter": "python",
   "pygments_lexer": "ipython3",
   "version": "3.8.13"
  },
  "orig_nbformat": 4,
  "vscode": {
   "interpreter": {
    "hash": "574e265e224414fbfe5846a02823632fb65160491b26aee0d52fcc532581eebd"
   }
  }
 },
 "nbformat": 4,
 "nbformat_minor": 2
}
